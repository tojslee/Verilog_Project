{
 "cells": [
  {
   "cell_type": "code",
   "execution_count": 34,
   "metadata": {},
   "outputs": [],
   "source": [
    "with open('output.txt', 'w+') as wp:\n",
    "    with open('input.txt', 'r') as fp:\n",
    "        for cnt, line in enumerate(fp):\n",
    "            instr = line.split(' ')\n",
    "            if instr[0].lower() == 'ld':\n",
    "                opcode = '00'\n",
    "            elif instr[0].lower() == 'st':\n",
    "                opcode = '01'\n",
    "            elif instr[0].lower() == 'add':\n",
    "                opcode = '10'\n",
    "            elif instr[0].lower() == 'brn':\n",
    "                opcode = '11'\n",
    "            elif instr[0].lower() == 'const':\n",
    "                if int(instr[1]) < 0:\n",
    "                    wp.write(f\"mem['b{int(instr[2]):0b}] = 16'b{pow(2, 16) + int(instr[1]):016b}\\n\")\n",
    "                else:\n",
    "                    wp.write(f\"mem['b{int(instr[2]):0b}] = 16'b{int(instr[1]):016b}\\n\")\n",
    "                continue\n",
    "            else:\n",
    "                raise NameError('No such instruction!')\n",
    "            wp.write(f\"mem['b{cnt:0b}] = 16'b{opcode}{int(instr[1]):014b}\\n\")"
   ]
  },
  {
   "cell_type": "code",
   "execution_count": null,
   "metadata": {},
   "outputs": [],
   "source": []
  }
 ],
 "metadata": {
  "kernelspec": {
   "display_name": "Python 3",
   "language": "python",
   "name": "python3"
  },
  "language_info": {
   "codemirror_mode": {
    "name": "ipython",
    "version": 3
   },
   "file_extension": ".py",
   "mimetype": "text/x-python",
   "name": "python",
   "nbconvert_exporter": "python",
   "pygments_lexer": "ipython3",
   "version": "3.6.5"
  }
 },
 "nbformat": 4,
 "nbformat_minor": 2
}
